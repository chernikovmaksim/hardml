{
 "cells": [
  {
   "cell_type": "code",
   "execution_count": 1,
   "id": "e510a88b-960e-4315-aac5-bf580f9bf52e",
   "metadata": {},
   "outputs": [],
   "source": [
    "import torch"
   ]
  },
  {
   "cell_type": "markdown",
   "id": "e338965a-7a25-48d1-93ac-13b56bec2e3b",
   "metadata": {},
   "source": [
    "### num_swapped_pairs"
   ]
  },
  {
   "cell_type": "code",
   "execution_count": 8,
   "id": "ab9c6c95-33c8-463e-90a2-3b6405c9a18b",
   "metadata": {},
   "outputs": [
    {
     "name": "stdout",
     "output_type": "stream",
     "text": [
      "tensor([3, 2, 1, 1, 3, 1, 2])\n",
      "tensor([7, 6, 5, 4, 3, 2, 1])\n"
     ]
    }
   ],
   "source": [
    "y_true = torch.tensor([3, 2, 1, 1, 3, 1, 2])\n",
    "print(y_true)\n",
    "y_pred = torch.tensor([7, 6, 5, 4, 3, 2, 1])\n",
    "print(y_pred)"
   ]
  },
  {
   "cell_type": "code",
   "execution_count": 9,
   "id": "572f277f-b517-474c-a746-af6eaa4d75ec",
   "metadata": {},
   "outputs": [],
   "source": [
    "def num_swapped_pairs(ys_true: torch.Tensor, ys_pred: torch.Tensor) -> torch.Tensor:\n",
    "    \"\"\"\n",
    "    Function to calculate the number of incorrectly ordered \n",
    "    pairs (correct ordering is from the largest value in ys_true to the smallest) or rearranged pairs.\n",
    "    Args:\n",
    "        ys_true (torch.Tensor): Tensor of actual relevancy values.\n",
    "        ys_pred (torch.Tensor): Tensor of predicted relevancy values.\n",
    "\n",
    "    Returns:\n",
    "        torch.Tensor: Number of incorrectly ordered or rearranged pairs.\n",
    "    \"\"\"\n",
    "    order = torch.argsort(ys_pred, descending=True, dim=-1)\n",
    "    true_sorted_by_preds = torch.gather(ys_true, dim=-1, index=order)\n",
    "    comb = torch.combinations(true_sorted_by_preds)\n",
    "    return torch.sum(comb[:, 0] < comb[:, 1])"
   ]
  },
  {
   "cell_type": "code",
   "execution_count": 10,
   "id": "71675962-ef4e-4d92-a975-5ada9e6d4568",
   "metadata": {},
   "outputs": [
    {
     "data": {
      "text/plain": [
       "tensor(6)"
      ]
     },
     "execution_count": 10,
     "metadata": {},
     "output_type": "execute_result"
    }
   ],
   "source": [
    "num_swapped_pairs(y_true, y_pred)"
   ]
  },
  {
   "cell_type": "markdown",
   "id": "d4e82138-c733-4e45-80b0-493167b5ca1c",
   "metadata": {},
   "source": [
    "### compute_gain"
   ]
  },
  {
   "cell_type": "code",
   "execution_count": 24,
   "id": "570f2fca-2465-4610-b9c6-c9ba0e332336",
   "metadata": {},
   "outputs": [],
   "source": [
    "def compute_gain(y_value: float, gain_scheme: str) -> float:\n",
    "    \"\"\"\n",
    "    Helper function for calculating DCG and NDCG, which calculates Gain.\n",
    "    \"\"\"\n",
    "    if gain_scheme == \"const\":\n",
    "        return y_value\n",
    "    elif gain_scheme == \"exp2\":\n",
    "        return 2**y_value - 1\n",
    "    else:\n",
    "        raise ValueError(\"gain function can be either const or exp2\")"
   ]
  },
  {
   "cell_type": "markdown",
   "id": "6582fe04-3efd-4212-b995-7fa17cb22261",
   "metadata": {},
   "source": [
    "### DCG"
   ]
  },
  {
   "cell_type": "code",
   "execution_count": 25,
   "id": "f2c307d4-b584-412e-9828-e6b4065b98b0",
   "metadata": {},
   "outputs": [],
   "source": [
    "def dcg(ys_true: torch.Tensor, ys_pred: torch.Tensor, gain_scheme: str) -> torch.Tensor:\n",
    "    \"\"\"\n",
    "    Function to calculate the DCG metric. \n",
    "    Discounted cumulative gain (DCG) is a measure of ranking quality.\n",
    "    https://en.wikipedia.org/wiki/Discounted_cumulative_gain\n",
    "    Args:\n",
    "        ys_true (torch.Tensor): Tensor of actual relevancy values.\n",
    "        ys_pred (torch.Tensor): Tensor of predicted relevancy values.\n",
    "        gain_scheme (str): Gain scheme.\n",
    "\n",
    "    Returns:\n",
    "        torch.Tensor: DCG metric.\n",
    "    \"\"\"\n",
    "    order = torch.argsort(ys_pred, descending=True, dim=-1)\n",
    "    true_sorted_by_preds = torch.gather(ys_true, dim=-1, index=order)\n",
    "    \n",
    "    gain_function = lambda x: compute_gain(x, gain_scheme)\n",
    "    gains = gain_function(true_sorted_by_preds)\n",
    "    \n",
    "    discounts = torch.tensor(1) /  torch.log2(torch.arange(true_sorted_by_preds.shape[0], dtype=torch.double) + 2.0)\n",
    "    discounted_gains = gains * discounts\n",
    "    \n",
    "    sum_dcg = torch.sum(discounted_gains, dim=-1)\n",
    "    return sum_dcg"
   ]
  },
  {
   "cell_type": "code",
   "execution_count": 27,
   "id": "8677295c-b1aa-4765-b03d-65ab0b2a3a8c",
   "metadata": {},
   "outputs": [
    {
     "data": {
      "text/plain": [
       "tensor(7.3760, dtype=torch.float64)"
      ]
     },
     "execution_count": 27,
     "metadata": {},
     "output_type": "execute_result"
    }
   ],
   "source": [
    "dcg(y_true, y_pred, \"const\")"
   ]
  },
  {
   "cell_type": "markdown",
   "id": "3fc6c04a-62d8-405e-855a-5707b109ff80",
   "metadata": {},
   "source": [
    "### NDCG"
   ]
  },
  {
   "cell_type": "code",
   "execution_count": 30,
   "id": "5ff3b61f-8013-4313-8532-0363096d11db",
   "metadata": {},
   "outputs": [],
   "source": [
    "def ndcg(ys_true: torch.Tensor, ys_pred: torch.Tensor, gain_scheme: str = 'const') -> torch.Tensor:\n",
    "    \"\"\"\n",
    "    Function to calculate the NDCG metric. \n",
    "    Normalized discounted cumulative gain (NDCG) is normalized measure of ranking quality.\n",
    "    https://en.wikipedia.org/wiki/Discounted_cumulative_gain\n",
    "    Args:\n",
    "        ys_true (torch.Tensor): Tensor of actual relevancy values.\n",
    "        ys_pred (torch.Tensor): Tensor of predicted relevancy values.\n",
    "        gain_scheme (str): Gain scheme.\n",
    "\n",
    "    Returns:\n",
    "        torch.Tensor: NDCG metric.\n",
    "    \"\"\"\n",
    "    ideal_dcgs = dcg(ys_true, ys_true, gain_scheme)\n",
    "    predicted_dcgs = dcg(ys_true, ys_pred, gain_scheme)\n",
    "    ndcg_score = predicted_dcgs / ideal_dcgs\n",
    "    return ndcg_score"
   ]
  },
  {
   "cell_type": "code",
   "execution_count": 31,
   "id": "f737e435-5b0d-4bc3-812c-766f2dc21ef5",
   "metadata": {},
   "outputs": [
    {
     "data": {
      "text/plain": [
       "tensor(0.9419, dtype=torch.float64)"
      ]
     },
     "execution_count": 31,
     "metadata": {},
     "output_type": "execute_result"
    }
   ],
   "source": [
    "ndcg(y_true, y_pred, \"const\")"
   ]
  },
  {
   "cell_type": "markdown",
   "id": "e89cdde6-6bc0-4292-9ed9-65c776128912",
   "metadata": {},
   "source": [
    "### precision_at_k"
   ]
  },
  {
   "cell_type": "code",
   "execution_count": 39,
   "id": "377ca081-32d0-4dfd-a99e-c9d52ad8409a",
   "metadata": {},
   "outputs": [
    {
     "name": "stdout",
     "output_type": "stream",
     "text": [
      "tensor([1, 0, 1, 0, 1, 0, 0])\n",
      "tensor([0.3168, 0.6038, 0.3472, 0.2504, 0.9051, 0.7405, 0.6881])\n"
     ]
    }
   ],
   "source": [
    "y_true = torch.tensor([1, 0, 1, 0, 1, 0, 0])\n",
    "print(y_true)\n",
    "y_pred = torch.rand(7)\n",
    "print(y_pred)"
   ]
  },
  {
   "cell_type": "code",
   "execution_count": 40,
   "id": "93752894-3333-425c-be33-65a61ed6d028",
   "metadata": {},
   "outputs": [],
   "source": [
    "def precision_at_k(ys_true: torch.Tensor, ys_pred: torch.Tensor, k: int) -> torch.Tensor:\n",
    "    \"\"\" \n",
    "    Function for calculating precision in the top-k positions for binary markup.\n",
    "    \n",
    "    Args:\n",
    "        ys_true (torch.Tensor): Tensor of actual relevancy values (positive is relevant position).\n",
    "        ys_pred (torch.Tensor): Tensor of predicted relevancy values.\n",
    "        k (int): Number of top k positions.\n",
    "\n",
    "    Returns:\n",
    "        torch.Tensor: Precision at k metric.\n",
    "    \"\"\"\n",
    "    if torch.sum(ys_true) == 0:\n",
    "        return -1\n",
    "    order = torch.argsort(ys_pred, descending=True, dim=-1)\n",
    "    true_sorted_by_preds = torch.gather(ys_true, dim=-1, index=order)\n",
    "    return torch.sum(true_sorted_by_preds[:k]) / min(torch.sum(true_sorted_by_preds), k)"
   ]
  },
  {
   "cell_type": "code",
   "execution_count": 41,
   "id": "67cb7aab-2d02-40ff-bda6-26eadfe82ebe",
   "metadata": {},
   "outputs": [
    {
     "data": {
      "text/plain": [
       "tensor(0.6667)"
      ]
     },
     "execution_count": 41,
     "metadata": {},
     "output_type": "execute_result"
    }
   ],
   "source": [
    "precision_at_k(y_true, y_pred, 5)"
   ]
  },
  {
   "cell_type": "markdown",
   "id": "fceb1744-1c64-485d-9c79-554729540509",
   "metadata": {},
   "source": [
    "### average_precision"
   ]
  },
  {
   "cell_type": "code",
   "execution_count": 44,
   "id": "bd3cf9fe-209c-4639-911e-c23456e1d122",
   "metadata": {},
   "outputs": [],
   "source": [
    "def average_precision(ys_true: torch.Tensor, ys_pred: torch.Tensor) -> torch.Tensor:\n",
    "    \"\"\"\n",
    "    Function for calculating average precision for binary markup.\n",
    "    \n",
    "    Args:\n",
    "        ys_true (torch.Tensor): Tensor of actual relevancy values (positive is relevant position).\n",
    "        ys_pred (torch.Tensor): Tensor of predicted relevancy values.\n",
    "\n",
    "    Returns:\n",
    "        torch.Tensor: Avearage precision metric.\n",
    "    \"\"\"\n",
    "    if torch.sum(ys_true) == 0:\n",
    "        return -1\n",
    "    order = torch.argsort(ys_pred, descending=True, dim=-1)\n",
    "    true_sorted_by_preds = torch.gather(ys_true, dim=-1, index=order)\n",
    "    rel_number_found_by_pos = torch.cumsum(true_sorted_by_preds, dim=0)\n",
    "    pos_number = torch.arange(true_sorted_by_preds.shape[0], dtype=torch.double) + 1.0\n",
    "    idx = true_sorted_by_preds == 1\n",
    "    k = torch.sum(idx)\n",
    "    return torch.sum(rel_number_found_by_pos[idx] / pos_number[idx], dim=0) / k"
   ]
  },
  {
   "cell_type": "code",
   "execution_count": 45,
   "id": "72381c26-af57-41ba-a495-7ecd7bce1fef",
   "metadata": {},
   "outputs": [
    {
     "data": {
      "text/plain": [
       "tensor(0.6333, dtype=torch.float64)"
      ]
     },
     "execution_count": 45,
     "metadata": {},
     "output_type": "execute_result"
    }
   ],
   "source": [
    "average_precision(y_true, y_pred)"
   ]
  },
  {
   "cell_type": "markdown",
   "id": "4a3e411c-2e1b-4c7c-8535-570458236214",
   "metadata": {},
   "source": [
    "### reciprocal_rank"
   ]
  },
  {
   "cell_type": "code",
   "execution_count": 46,
   "id": "7cf480a5-493a-400d-842f-218c78ece7b6",
   "metadata": {},
   "outputs": [
    {
     "name": "stdout",
     "output_type": "stream",
     "text": [
      "tensor([0, 0, 1, 0, 0, 0, 0])\n",
      "tensor([0.1533, 0.8854, 0.8556, 0.4837, 0.8159, 0.7301, 0.0292])\n"
     ]
    }
   ],
   "source": [
    "y_true = torch.tensor([0, 0, 1, 0, 0, 0, 0])\n",
    "print(y_true)\n",
    "y_pred = torch.rand(7)\n",
    "print(y_pred)"
   ]
  },
  {
   "cell_type": "code",
   "execution_count": 47,
   "id": "89a84ae8-dddc-4f45-b2d6-a9c5423366b6",
   "metadata": {},
   "outputs": [],
   "source": [
    "def reciprocal_rank(ys_true: torch.Tensor, ys_pred: torch.Tensor) -> float:\n",
    "    \"\"\"\n",
    "    Function for calculating MRR (without averaging, i.e. for one request and many documents).\n",
    "    \n",
    "    Args:\n",
    "        ys_true (torch.Tensor): Tensor of actual relevancy values (positive is relevant position).\n",
    "        ys_pred (torch.Tensor): Tensor of predicted relevancy values.\n",
    "\n",
    "    Returns:\n",
    "        torch.Tensor: Reciprocal rank.\n",
    "    \"\"\"\n",
    "    order = torch.argsort(ys_pred, descending=True, dim=-1)\n",
    "    true_sorted_by_preds = torch.gather(ys_true, dim=-1, index=order)\n",
    "    return 1/((true_sorted_by_preds == 1).nonzero().item() + 1)"
   ]
  },
  {
   "cell_type": "code",
   "execution_count": 48,
   "id": "8dfc9a08-b37e-4618-9b29-e5bb35be7163",
   "metadata": {},
   "outputs": [
    {
     "data": {
      "text/plain": [
       "0.5"
      ]
     },
     "execution_count": 48,
     "metadata": {},
     "output_type": "execute_result"
    }
   ],
   "source": [
    "reciprocal_rank(y_true, y_pred)"
   ]
  },
  {
   "cell_type": "markdown",
   "id": "2491624a-475b-4cc1-ae15-fd5cc1eb9132",
   "metadata": {},
   "source": [
    "### p_found"
   ]
  },
  {
   "cell_type": "code",
   "execution_count": 49,
   "id": "cbd9424b-a579-40ff-9570-4a7be593f70d",
   "metadata": {},
   "outputs": [
    {
     "name": "stdout",
     "output_type": "stream",
     "text": [
      "tensor([0.1615, 0.8984, 0.6906, 0.2509, 0.1942, 0.5556, 0.3244])\n",
      "tensor([0.8977, 0.9142, 0.2413, 0.2984, 0.7985, 0.2970, 0.7239])\n"
     ]
    }
   ],
   "source": [
    "y_true = torch.rand(7)\n",
    "print(y_true)\n",
    "y_pred = torch.rand(7)\n",
    "print(y_pred)"
   ]
  },
  {
   "cell_type": "code",
   "execution_count": 52,
   "id": "21502fd2-bfd7-4111-ab15-a727e24b0a2a",
   "metadata": {},
   "outputs": [],
   "source": [
    "def p_found(ys_true: torch.Tensor, ys_pred: torch.Tensor, p_break: float = 0.15) -> torch.Tensor:\n",
    "    \"\"\"\n",
    "    P-found calculation function from Yandex. This function is usually used to assess the quality of ranking.\n",
    "    https://catboost.ai/en/docs/references/pfound\n",
    "    \n",
    "    Args:\n",
    "        ys_true (torch.Tensor): Tensor of actual relevancy values.\n",
    "        ys_pred (torch.Tensor): Tensor of predicted relevancy values.\n",
    "\n",
    "    Returns:\n",
    "        torch.Tensor: P-found metric.\n",
    "    \"\"\"\n",
    "    order = torch.argsort(ys_pred, descending=True, dim=-1)\n",
    "    prel = torch.gather(ys_true, dim=-1, index=order)\n",
    "    plook = [1]\n",
    "    for i in range(1, len(prel)):\n",
    "        plook.append(plook[i-1] * (1 - prel[i-1]) * (1 - p_break))\n",
    "    return torch.sum(torch.tensor(plook) * prel)"
   ]
  },
  {
   "cell_type": "code",
   "execution_count": 53,
   "id": "5f7adef7-754a-43f7-9016-defb85d22b11",
   "metadata": {},
   "outputs": [
    {
     "data": {
      "text/plain": [
       "tensor(0.9566)"
      ]
     },
     "execution_count": 53,
     "metadata": {},
     "output_type": "execute_result"
    }
   ],
   "source": [
    "p_found(y_true, y_pred)"
   ]
  }
 ],
 "metadata": {
  "kernelspec": {
   "display_name": "Python 3 (ipykernel)",
   "language": "python",
   "name": "python3"
  },
  "language_info": {
   "codemirror_mode": {
    "name": "ipython",
    "version": 3
   },
   "file_extension": ".py",
   "mimetype": "text/x-python",
   "name": "python",
   "nbconvert_exporter": "python",
   "pygments_lexer": "ipython3",
   "version": "3.9.12"
  }
 },
 "nbformat": 4,
 "nbformat_minor": 5
}
